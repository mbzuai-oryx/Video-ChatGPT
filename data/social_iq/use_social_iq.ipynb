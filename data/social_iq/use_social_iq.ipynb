{
 "cells": [
  {
   "cell_type": "code",
   "execution_count": 35,
   "metadata": {},
   "outputs": [],
   "source": [
    "from json import load as json_load\n",
    "\n",
    "fpath_siq2 = './siq2/current_split.json'\n",
    "\n",
    "with open(fpath_siq2,'r') as file_in:\n",
    "    json_siq2 = json_load(file_in)"
   ]
  },
  {
   "cell_type": "code",
   "execution_count": 36,
   "metadata": {},
   "outputs": [
    {
     "data": {
      "text/plain": [
       "['train', 'val', 'test']"
      ]
     },
     "execution_count": 36,
     "metadata": {},
     "output_type": "execute_result"
    }
   ],
   "source": [
    "# list(json_siq2.keys())\n",
    "list(json_siq2['subsets']['youtubeclips'].keys())"
   ]
  },
  {
   "cell_type": "code",
   "execution_count": 37,
   "metadata": {},
   "outputs": [],
   "source": [
    "train_youtube = json_siq2['subsets']['youtubeclips']['train']"
   ]
  },
  {
   "cell_type": "code",
   "execution_count": 38,
   "metadata": {},
   "outputs": [
    {
     "data": {
      "text/plain": [
       "440"
      ]
     },
     "execution_count": 38,
     "metadata": {},
     "output_type": "execute_result"
    }
   ],
   "source": [
    "len(train_youtube)"
   ]
  },
  {
   "cell_type": "code",
   "execution_count": 39,
   "metadata": {},
   "outputs": [],
   "source": [
    "from mmsdk.mmdatasdk.dataset.standard_datasets.SocialIQ.socialiq_std_folds import standard_train_fold, standard_valid_fold"
   ]
  },
  {
   "cell_type": "code",
   "execution_count": 40,
   "metadata": {},
   "outputs": [
    {
     "data": {
      "text/plain": [
       "888"
      ]
     },
     "execution_count": 40,
     "metadata": {},
     "output_type": "execute_result"
    }
   ],
   "source": [
    "len(standard_train_fold)"
   ]
  },
  {
   "cell_type": "code",
   "execution_count": 41,
   "metadata": {},
   "outputs": [
    {
     "data": {
      "text/plain": [
       "127"
      ]
     },
     "execution_count": 41,
     "metadata": {},
     "output_type": "execute_result"
    }
   ],
   "source": [
    "len(standard_valid_fold)"
   ]
  },
  {
   "cell_type": "code",
   "execution_count": 42,
   "metadata": {},
   "outputs": [
    {
     "ename": "NameError",
     "evalue": "name 'md' is not defined",
     "output_type": "error",
     "traceback": [
      "\u001b[0;31m---------------------------------------------------------------------------\u001b[0m",
      "\u001b[0;31mNameError\u001b[0m                                 Traceback (most recent call last)",
      "\u001b[1;32m/Users/zhanwenchen/CMU-MultimodalSDK/use_social_iq.ipynb Cell 11\u001b[0m line \u001b[0;36m2\n\u001b[1;32m      <a href='vscode-notebook-cell:/Users/zhanwenchen/CMU-MultimodalSDK/use_social_iq.ipynb#W5sZmlsZQ%3D%3D?line=0'>1</a>\u001b[0m \u001b[39m# recipe = {feat: os.path.join(DATA_PATH, feat) + '.csd' for feat in features}\u001b[39;00m\n\u001b[0;32m----> <a href='vscode-notebook-cell:/Users/zhanwenchen/CMU-MultimodalSDK/use_social_iq.ipynb#W5sZmlsZQ%3D%3D?line=1'>2</a>\u001b[0m dataset \u001b[39m=\u001b[39m md\u001b[39m.\u001b[39mmmdataset(recipe)\n",
      "\u001b[0;31mNameError\u001b[0m: name 'md' is not defined"
     ]
    }
   ],
   "source": [
    "# recipe = {feat: os.path.join(DATA_PATH, feat) + '.csd' for feat in features}\n",
    "dataset = md.mmdataset(recipe)"
   ]
  },
  {
   "cell_type": "code",
   "execution_count": null,
   "metadata": {},
   "outputs": [],
   "source": [
    "set_siq1 = set(standard_train_fold)\n",
    "set_siq2 = set(train_youtube)"
   ]
  },
  {
   "cell_type": "code",
   "execution_count": null,
   "metadata": {},
   "outputs": [
    {
     "data": {
      "text/plain": [
       "448"
      ]
     },
     "execution_count": 23,
     "metadata": {},
     "output_type": "execute_result"
    }
   ],
   "source": [
    "len(set_siq1) - len(set_siq2)"
   ]
  },
  {
   "cell_type": "code",
   "execution_count": null,
   "metadata": {},
   "outputs": [
    {
     "data": {
      "text/plain": [
       "498"
      ]
     },
     "execution_count": 22,
     "metadata": {},
     "output_type": "execute_result"
    }
   ],
   "source": [
    "len(set_siq1 - set_siq2)"
   ]
  },
  {
   "cell_type": "code",
   "execution_count": null,
   "metadata": {},
   "outputs": [
    {
     "data": {
      "text/plain": [
       "390"
      ]
     },
     "execution_count": 24,
     "metadata": {},
     "output_type": "execute_result"
    }
   ],
   "source": [
    "len(set_siq1.intersection(set_siq2))"
   ]
  },
  {
   "cell_type": "code",
   "execution_count": null,
   "metadata": {},
   "outputs": [
    {
     "data": {
      "text/plain": [
       "50"
      ]
     },
     "execution_count": 26,
     "metadata": {},
     "output_type": "execute_result"
    }
   ],
   "source": [
    "len(set_siq2 - set_siq1)"
   ]
  },
  {
   "cell_type": "code",
   "execution_count": null,
   "metadata": {},
   "outputs": [],
   "source": [
    "video_ids_siq1_train = list(set_siq1)"
   ]
  },
  {
   "cell_type": "code",
   "execution_count": null,
   "metadata": {},
   "outputs": [
    {
     "name": "stdout",
     "output_type": "stream",
     "text": [
      "[youtube] o7Ax6SRTGks: Downloading webpage\n"
     ]
    },
    {
     "name": "stderr",
     "output_type": "stream",
     "text": [
      "WARNING: Requested formats are incompatible for merge and will be merged into mkv.\n"
     ]
    },
    {
     "name": "stdout",
     "output_type": "stream",
     "text": [
      "[dashsegments] Total fragments: 6\n",
      "[download] Destination: downloaded/o7Ax6SRTGks.f137.mp4\n",
      "[download] 100% of 54.28MiB in 00:05.89MiB/s ETA 00:00749\n",
      "[dashsegments] Total fragments: 1\n",
      "[download] Destination: downloaded/o7Ax6SRTGks.f251.webm\n"
     ]
    },
    {
     "ename": "KeyboardInterrupt",
     "evalue": "",
     "output_type": "error",
     "traceback": [
      "\u001b[0;31m---------------------------------------------------------------------------\u001b[0m",
      "\u001b[0;31mKeyboardInterrupt\u001b[0m                         Traceback (most recent call last)",
      "\u001b[1;32m/Users/zhanwenchen/CMU-MultimodalSDK/use_social_iq.ipynb Cell 18\u001b[0m line \u001b[0;36m7\n\u001b[1;32m      <a href='vscode-notebook-cell:/Users/zhanwenchen/CMU-MultimodalSDK/use_social_iq.ipynb#X22sZmlsZQ%3D%3D?line=4'>5</a>\u001b[0m url_list \u001b[39m=\u001b[39m [\u001b[39mf\u001b[39m\u001b[39m'\u001b[39m\u001b[39mhttps://www.youtube.com/watch?v=\u001b[39m\u001b[39m{\u001b[39;00myoutube_id\u001b[39m}\u001b[39;00m\u001b[39m'\u001b[39m \u001b[39mfor\u001b[39;00m youtube_id \u001b[39min\u001b[39;00m video_ids_siq1_train]\n\u001b[1;32m      <a href='vscode-notebook-cell:/Users/zhanwenchen/CMU-MultimodalSDK/use_social_iq.ipynb#X22sZmlsZQ%3D%3D?line=5'>6</a>\u001b[0m \u001b[39mwith\u001b[39;00m YoutubeDL(ydl_opts) \u001b[39mas\u001b[39;00m ydl:\n\u001b[0;32m----> <a href='vscode-notebook-cell:/Users/zhanwenchen/CMU-MultimodalSDK/use_social_iq.ipynb#X22sZmlsZQ%3D%3D?line=6'>7</a>\u001b[0m     ydl\u001b[39m.\u001b[39;49mdownload(url_list)\n",
      "File \u001b[0;32m~/miniconda3/envs/social_iq1/lib/python3.11/site-packages/youtube_dl/YoutubeDL.py:2222\u001b[0m, in \u001b[0;36mYoutubeDL.download\u001b[0;34m(self, url_list)\u001b[0m\n\u001b[1;32m   2219\u001b[0m \u001b[39mfor\u001b[39;00m url \u001b[39min\u001b[39;00m url_list:\n\u001b[1;32m   2220\u001b[0m     \u001b[39mtry\u001b[39;00m:\n\u001b[1;32m   2221\u001b[0m         \u001b[39m# It also downloads the videos\u001b[39;00m\n\u001b[0;32m-> 2222\u001b[0m         res \u001b[39m=\u001b[39m \u001b[39mself\u001b[39;49m\u001b[39m.\u001b[39;49mextract_info(\n\u001b[1;32m   2223\u001b[0m             url, force_generic_extractor\u001b[39m=\u001b[39;49m\u001b[39mself\u001b[39;49m\u001b[39m.\u001b[39;49mparams\u001b[39m.\u001b[39;49mget(\u001b[39m'\u001b[39;49m\u001b[39mforce_generic_extractor\u001b[39;49m\u001b[39m'\u001b[39;49m, \u001b[39mFalse\u001b[39;49;00m))\n\u001b[1;32m   2224\u001b[0m     \u001b[39mexcept\u001b[39;00m UnavailableVideoError:\n\u001b[1;32m   2225\u001b[0m         \u001b[39mself\u001b[39m\u001b[39m.\u001b[39mreport_error(\u001b[39m'\u001b[39m\u001b[39munable to download video\u001b[39m\u001b[39m'\u001b[39m)\n",
      "File \u001b[0;32m~/miniconda3/envs/social_iq1/lib/python3.11/site-packages/youtube_dl/YoutubeDL.py:856\u001b[0m, in \u001b[0;36mYoutubeDL.extract_info\u001b[0;34m(self, url, download, ie_key, extra_info, process, force_generic_extractor)\u001b[0m\n\u001b[1;32m    852\u001b[0m     \u001b[39mif\u001b[39;00m \u001b[39mnot\u001b[39;00m ie\u001b[39m.\u001b[39mworking():\n\u001b[1;32m    853\u001b[0m         \u001b[39mself\u001b[39m\u001b[39m.\u001b[39mreport_warning(\u001b[39m'\u001b[39m\u001b[39mThe program functionality for this site has been marked as broken, \u001b[39m\u001b[39m'\u001b[39m\n\u001b[1;32m    854\u001b[0m                             \u001b[39m'\u001b[39m\u001b[39mand will probably not work.\u001b[39m\u001b[39m'\u001b[39m)\n\u001b[0;32m--> 856\u001b[0m     \u001b[39mreturn\u001b[39;00m \u001b[39mself\u001b[39;49m\u001b[39m.\u001b[39;49m__extract_info(url, ie, download, extra_info, process)\n\u001b[1;32m    857\u001b[0m \u001b[39melse\u001b[39;00m:\n\u001b[1;32m    858\u001b[0m     \u001b[39mself\u001b[39m\u001b[39m.\u001b[39mreport_error(\u001b[39m'\u001b[39m\u001b[39mno suitable InfoExtractor for URL \u001b[39m\u001b[39m%s\u001b[39;00m\u001b[39m'\u001b[39m \u001b[39m%\u001b[39m url)\n",
      "File \u001b[0;32m~/miniconda3/envs/social_iq1/lib/python3.11/site-packages/youtube_dl/YoutubeDL.py:863\u001b[0m, in \u001b[0;36mYoutubeDL.__handle_extraction_exceptions.<locals>.wrapper\u001b[0;34m(self, *args, **kwargs)\u001b[0m\n\u001b[1;32m    861\u001b[0m \u001b[39mdef\u001b[39;00m \u001b[39mwrapper\u001b[39m(\u001b[39mself\u001b[39m, \u001b[39m*\u001b[39margs, \u001b[39m*\u001b[39m\u001b[39m*\u001b[39mkwargs):\n\u001b[1;32m    862\u001b[0m     \u001b[39mtry\u001b[39;00m:\n\u001b[0;32m--> 863\u001b[0m         \u001b[39mreturn\u001b[39;00m func(\u001b[39mself\u001b[39;49m, \u001b[39m*\u001b[39;49margs, \u001b[39m*\u001b[39;49m\u001b[39m*\u001b[39;49mkwargs)\n\u001b[1;32m    864\u001b[0m     \u001b[39mexcept\u001b[39;00m GeoRestrictedError \u001b[39mas\u001b[39;00m e:\n\u001b[1;32m    865\u001b[0m         msg \u001b[39m=\u001b[39m e\u001b[39m.\u001b[39mmsg\n",
      "File \u001b[0;32m~/miniconda3/envs/social_iq1/lib/python3.11/site-packages/youtube_dl/YoutubeDL.py:970\u001b[0m, in \u001b[0;36mYoutubeDL.__extract_info\u001b[0;34m(self, url, ie, download, extra_info, process)\u001b[0m\n\u001b[1;32m    968\u001b[0m \u001b[39mself\u001b[39m\u001b[39m.\u001b[39madd_default_extra_info(ie_result, ie, url)\n\u001b[1;32m    969\u001b[0m \u001b[39mif\u001b[39;00m process:\n\u001b[0;32m--> 970\u001b[0m     \u001b[39mreturn\u001b[39;00m \u001b[39mself\u001b[39;49m\u001b[39m.\u001b[39;49mprocess_ie_result(ie_result, download, extra_info)\n\u001b[1;32m    971\u001b[0m \u001b[39melse\u001b[39;00m:\n\u001b[1;32m    972\u001b[0m     \u001b[39mreturn\u001b[39;00m ie_result\n",
      "File \u001b[0;32m~/miniconda3/envs/social_iq1/lib/python3.11/site-packages/youtube_dl/YoutubeDL.py:1004\u001b[0m, in \u001b[0;36mYoutubeDL.process_ie_result\u001b[0;34m(self, ie_result, download, extra_info)\u001b[0m\n\u001b[1;32m   1002\u001b[0m \u001b[39mif\u001b[39;00m result_type \u001b[39m==\u001b[39m \u001b[39m'\u001b[39m\u001b[39mvideo\u001b[39m\u001b[39m'\u001b[39m:\n\u001b[1;32m   1003\u001b[0m     \u001b[39mself\u001b[39m\u001b[39m.\u001b[39madd_extra_info(ie_result, extra_info)\n\u001b[0;32m-> 1004\u001b[0m     \u001b[39mreturn\u001b[39;00m \u001b[39mself\u001b[39;49m\u001b[39m.\u001b[39;49mprocess_video_result(ie_result, download\u001b[39m=\u001b[39;49mdownload)\n\u001b[1;32m   1005\u001b[0m \u001b[39melif\u001b[39;00m result_type \u001b[39m==\u001b[39m \u001b[39m'\u001b[39m\u001b[39murl\u001b[39m\u001b[39m'\u001b[39m:\n\u001b[1;32m   1006\u001b[0m     \u001b[39m# We have to add extra_info to the results because it may be\u001b[39;00m\n\u001b[1;32m   1007\u001b[0m     \u001b[39m# contained in a playlist\u001b[39;00m\n\u001b[1;32m   1008\u001b[0m     \u001b[39mreturn\u001b[39;00m \u001b[39mself\u001b[39m\u001b[39m.\u001b[39mextract_info(ie_result[\u001b[39m'\u001b[39m\u001b[39murl\u001b[39m\u001b[39m'\u001b[39m],\n\u001b[1;32m   1009\u001b[0m                              download,\n\u001b[1;32m   1010\u001b[0m                              ie_key\u001b[39m=\u001b[39mie_result\u001b[39m.\u001b[39mget(\u001b[39m'\u001b[39m\u001b[39mie_key\u001b[39m\u001b[39m'\u001b[39m),\n\u001b[1;32m   1011\u001b[0m                              extra_info\u001b[39m=\u001b[39mextra_info)\n",
      "File \u001b[0;32m~/miniconda3/envs/social_iq1/lib/python3.11/site-packages/youtube_dl/YoutubeDL.py:1839\u001b[0m, in \u001b[0;36mYoutubeDL.process_video_result\u001b[0;34m(self, info_dict, download)\u001b[0m\n\u001b[1;32m   1837\u001b[0m         new_info \u001b[39m=\u001b[39m \u001b[39mdict\u001b[39m(info_dict)\n\u001b[1;32m   1838\u001b[0m         new_info\u001b[39m.\u001b[39mupdate(\u001b[39mformat\u001b[39m)\n\u001b[0;32m-> 1839\u001b[0m         \u001b[39mself\u001b[39;49m\u001b[39m.\u001b[39;49mprocess_info(new_info)\n\u001b[1;32m   1840\u001b[0m \u001b[39m# We update the info dict with the best quality format (backwards compatibility)\u001b[39;00m\n\u001b[1;32m   1841\u001b[0m info_dict\u001b[39m.\u001b[39mupdate(formats_to_download[\u001b[39m-\u001b[39m\u001b[39m1\u001b[39m])\n",
      "File \u001b[0;32m~/miniconda3/envs/social_iq1/lib/python3.11/site-packages/youtube_dl/YoutubeDL.py:2121\u001b[0m, in \u001b[0;36mYoutubeDL.process_info\u001b[0;34m(self, info_dict)\u001b[0m\n\u001b[1;32m   2119\u001b[0m         \u001b[39mreturn\u001b[39;00m\n\u001b[1;32m   2120\u001b[0m     downloaded\u001b[39m.\u001b[39mappend(fname)\n\u001b[0;32m-> 2121\u001b[0m     partial_success \u001b[39m=\u001b[39m dl(fname, new_info)\n\u001b[1;32m   2122\u001b[0m     success \u001b[39m=\u001b[39m success \u001b[39mand\u001b[39;00m partial_success\n\u001b[1;32m   2123\u001b[0m info_dict[\u001b[39m'\u001b[39m\u001b[39m__postprocessors\u001b[39m\u001b[39m'\u001b[39m] \u001b[39m=\u001b[39m postprocessors\n",
      "File \u001b[0;32m~/miniconda3/envs/social_iq1/lib/python3.11/site-packages/youtube_dl/YoutubeDL.py:2066\u001b[0m, in \u001b[0;36mYoutubeDL.process_info.<locals>.dl\u001b[0;34m(name, info)\u001b[0m\n\u001b[1;32m   2063\u001b[0m new_info \u001b[39m=\u001b[39m \u001b[39mdict\u001b[39m((k, v) \u001b[39mfor\u001b[39;00m k, v \u001b[39min\u001b[39;00m info\u001b[39m.\u001b[39mitems() \u001b[39mif\u001b[39;00m \u001b[39mnot\u001b[39;00m k\u001b[39m.\u001b[39mstartswith(\u001b[39m'\u001b[39m\u001b[39m__p\u001b[39m\u001b[39m'\u001b[39m))\n\u001b[1;32m   2064\u001b[0m new_info[\u001b[39m'\u001b[39m\u001b[39mhttp_headers\u001b[39m\u001b[39m'\u001b[39m] \u001b[39m=\u001b[39m \u001b[39mself\u001b[39m\u001b[39m.\u001b[39m_calc_headers(new_info)\n\u001b[0;32m-> 2066\u001b[0m \u001b[39mreturn\u001b[39;00m fd\u001b[39m.\u001b[39;49mdownload(name, new_info)\n",
      "File \u001b[0;32m~/miniconda3/envs/social_iq1/lib/python3.11/site-packages/youtube_dl/downloader/common.py:380\u001b[0m, in \u001b[0;36mFileDownloader.download\u001b[0;34m(self, filename, info_dict)\u001b[0m\n\u001b[1;32m    374\u001b[0m     \u001b[39mself\u001b[39m\u001b[39m.\u001b[39mto_screen(\n\u001b[1;32m    375\u001b[0m         \u001b[39m'\u001b[39m\u001b[39m[download] Sleeping \u001b[39m\u001b[39m%s\u001b[39;00m\u001b[39m seconds...\u001b[39m\u001b[39m'\u001b[39m \u001b[39m%\u001b[39m (\n\u001b[1;32m    376\u001b[0m             \u001b[39mint\u001b[39m(sleep_interval) \u001b[39mif\u001b[39;00m sleep_interval\u001b[39m.\u001b[39mis_integer()\n\u001b[1;32m    377\u001b[0m             \u001b[39melse\u001b[39;00m \u001b[39m'\u001b[39m\u001b[39m%.2f\u001b[39;00m\u001b[39m'\u001b[39m \u001b[39m%\u001b[39m sleep_interval))\n\u001b[1;32m    378\u001b[0m     time\u001b[39m.\u001b[39msleep(sleep_interval)\n\u001b[0;32m--> 380\u001b[0m \u001b[39mreturn\u001b[39;00m \u001b[39mself\u001b[39;49m\u001b[39m.\u001b[39;49mreal_download(filename, info_dict)\n",
      "File \u001b[0;32m~/miniconda3/envs/social_iq1/lib/python3.11/site-packages/youtube_dl/downloader/dash.py:48\u001b[0m, in \u001b[0;36mDashSegmentsFD.real_download\u001b[0;34m(self, filename, info_dict)\u001b[0m\n\u001b[1;32m     46\u001b[0m \u001b[39mfor\u001b[39;00m count \u001b[39min\u001b[39;00m itertools\u001b[39m.\u001b[39mcount():\n\u001b[1;32m     47\u001b[0m     \u001b[39mtry\u001b[39;00m:\n\u001b[0;32m---> 48\u001b[0m         success, frag_content \u001b[39m=\u001b[39m \u001b[39mself\u001b[39;49m\u001b[39m.\u001b[39;49m_download_fragment(ctx, fragment_url, info_dict)\n\u001b[1;32m     49\u001b[0m         \u001b[39mif\u001b[39;00m \u001b[39mnot\u001b[39;00m success:\n\u001b[1;32m     50\u001b[0m             \u001b[39mreturn\u001b[39;00m \u001b[39mFalse\u001b[39;00m\n",
      "File \u001b[0;32m~/miniconda3/envs/social_iq1/lib/python3.11/site-packages/youtube_dl/downloader/fragment.py:111\u001b[0m, in \u001b[0;36mFragmentFD._download_fragment\u001b[0;34m(self, ctx, frag_url, info_dict, headers)\u001b[0m\n\u001b[1;32m    108\u001b[0m fragment_info_dict[\u001b[39m'\u001b[39m\u001b[39mfrag_resume_len\u001b[39m\u001b[39m'\u001b[39m] \u001b[39m=\u001b[39m frag_resume_len\n\u001b[1;32m    109\u001b[0m ctx[\u001b[39m'\u001b[39m\u001b[39mfrag_resume_len\u001b[39m\u001b[39m'\u001b[39m] \u001b[39m=\u001b[39m frag_resume_len \u001b[39mor\u001b[39;00m \u001b[39m0\u001b[39m\n\u001b[0;32m--> 111\u001b[0m success \u001b[39m=\u001b[39m ctx[\u001b[39m'\u001b[39;49m\u001b[39mdl\u001b[39;49m\u001b[39m'\u001b[39;49m]\u001b[39m.\u001b[39;49mdownload(fragment_filename, fragment_info_dict)\n\u001b[1;32m    112\u001b[0m \u001b[39mif\u001b[39;00m \u001b[39mnot\u001b[39;00m success:\n\u001b[1;32m    113\u001b[0m     \u001b[39mreturn\u001b[39;00m \u001b[39mFalse\u001b[39;00m, \u001b[39mNone\u001b[39;00m\n",
      "File \u001b[0;32m~/miniconda3/envs/social_iq1/lib/python3.11/site-packages/youtube_dl/downloader/common.py:380\u001b[0m, in \u001b[0;36mFileDownloader.download\u001b[0;34m(self, filename, info_dict)\u001b[0m\n\u001b[1;32m    374\u001b[0m     \u001b[39mself\u001b[39m\u001b[39m.\u001b[39mto_screen(\n\u001b[1;32m    375\u001b[0m         \u001b[39m'\u001b[39m\u001b[39m[download] Sleeping \u001b[39m\u001b[39m%s\u001b[39;00m\u001b[39m seconds...\u001b[39m\u001b[39m'\u001b[39m \u001b[39m%\u001b[39m (\n\u001b[1;32m    376\u001b[0m             \u001b[39mint\u001b[39m(sleep_interval) \u001b[39mif\u001b[39;00m sleep_interval\u001b[39m.\u001b[39mis_integer()\n\u001b[1;32m    377\u001b[0m             \u001b[39melse\u001b[39;00m \u001b[39m'\u001b[39m\u001b[39m%.2f\u001b[39;00m\u001b[39m'\u001b[39m \u001b[39m%\u001b[39m sleep_interval))\n\u001b[1;32m    378\u001b[0m     time\u001b[39m.\u001b[39msleep(sleep_interval)\n\u001b[0;32m--> 380\u001b[0m \u001b[39mreturn\u001b[39;00m \u001b[39mself\u001b[39;49m\u001b[39m.\u001b[39;49mreal_download(filename, info_dict)\n",
      "File \u001b[0;32m~/miniconda3/envs/social_iq1/lib/python3.11/site-packages/youtube_dl/downloader/http.py:349\u001b[0m, in \u001b[0;36mHttpFD.real_download\u001b[0;34m(self, filename, info_dict)\u001b[0m\n\u001b[1;32m    347\u001b[0m \u001b[39mwhile\u001b[39;00m count \u001b[39m<\u001b[39m\u001b[39m=\u001b[39m retries:\n\u001b[1;32m    348\u001b[0m     \u001b[39mtry\u001b[39;00m:\n\u001b[0;32m--> 349\u001b[0m         establish_connection()\n\u001b[1;32m    350\u001b[0m         \u001b[39mreturn\u001b[39;00m download()\n\u001b[1;32m    351\u001b[0m     \u001b[39mexcept\u001b[39;00m RetryDownload \u001b[39mas\u001b[39;00m e:\n",
      "File \u001b[0;32m~/miniconda3/envs/social_iq1/lib/python3.11/site-packages/youtube_dl/downloader/http.py:110\u001b[0m, in \u001b[0;36mHttpFD.real_download.<locals>.establish_connection\u001b[0;34m()\u001b[0m\n\u001b[1;32m    108\u001b[0m \u001b[39mtry\u001b[39;00m:\n\u001b[1;32m    109\u001b[0m     \u001b[39mtry\u001b[39;00m:\n\u001b[0;32m--> 110\u001b[0m         ctx\u001b[39m.\u001b[39mdata \u001b[39m=\u001b[39m \u001b[39mself\u001b[39;49m\u001b[39m.\u001b[39;49mydl\u001b[39m.\u001b[39;49murlopen(request)\n\u001b[1;32m    111\u001b[0m     \u001b[39mexcept\u001b[39;00m (compat_urllib_error\u001b[39m.\u001b[39mURLError, ) \u001b[39mas\u001b[39;00m err:\n\u001b[1;32m    112\u001b[0m         \u001b[39m# reason may not be available, e.g. for urllib2.HTTPError on python 2.6\u001b[39;00m\n\u001b[1;32m    113\u001b[0m         reason \u001b[39m=\u001b[39m \u001b[39mgetattr\u001b[39m(err, \u001b[39m'\u001b[39m\u001b[39mreason\u001b[39m\u001b[39m'\u001b[39m, \u001b[39mNone\u001b[39;00m)\n",
      "File \u001b[0;32m~/miniconda3/envs/social_iq1/lib/python3.11/site-packages/youtube_dl/YoutubeDL.py:2465\u001b[0m, in \u001b[0;36mYoutubeDL.urlopen\u001b[0;34m(self, req)\u001b[0m\n\u001b[1;32m   2463\u001b[0m \u001b[39mif\u001b[39;00m \u001b[39misinstance\u001b[39m(req, compat_basestring):\n\u001b[1;32m   2464\u001b[0m     req \u001b[39m=\u001b[39m sanitized_Request(req)\n\u001b[0;32m-> 2465\u001b[0m \u001b[39mreturn\u001b[39;00m \u001b[39mself\u001b[39;49m\u001b[39m.\u001b[39;49m_opener\u001b[39m.\u001b[39;49mopen(req, timeout\u001b[39m=\u001b[39;49m\u001b[39mself\u001b[39;49m\u001b[39m.\u001b[39;49m_socket_timeout)\n",
      "File \u001b[0;32m~/miniconda3/envs/social_iq1/lib/python3.11/urllib/request.py:519\u001b[0m, in \u001b[0;36mOpenerDirector.open\u001b[0;34m(self, fullurl, data, timeout)\u001b[0m\n\u001b[1;32m    516\u001b[0m     req \u001b[39m=\u001b[39m meth(req)\n\u001b[1;32m    518\u001b[0m sys\u001b[39m.\u001b[39maudit(\u001b[39m'\u001b[39m\u001b[39murllib.Request\u001b[39m\u001b[39m'\u001b[39m, req\u001b[39m.\u001b[39mfull_url, req\u001b[39m.\u001b[39mdata, req\u001b[39m.\u001b[39mheaders, req\u001b[39m.\u001b[39mget_method())\n\u001b[0;32m--> 519\u001b[0m response \u001b[39m=\u001b[39m \u001b[39mself\u001b[39;49m\u001b[39m.\u001b[39;49m_open(req, data)\n\u001b[1;32m    521\u001b[0m \u001b[39m# post-process response\u001b[39;00m\n\u001b[1;32m    522\u001b[0m meth_name \u001b[39m=\u001b[39m protocol\u001b[39m+\u001b[39m\u001b[39m\"\u001b[39m\u001b[39m_response\u001b[39m\u001b[39m\"\u001b[39m\n",
      "File \u001b[0;32m~/miniconda3/envs/social_iq1/lib/python3.11/urllib/request.py:536\u001b[0m, in \u001b[0;36mOpenerDirector._open\u001b[0;34m(self, req, data)\u001b[0m\n\u001b[1;32m    533\u001b[0m     \u001b[39mreturn\u001b[39;00m result\n\u001b[1;32m    535\u001b[0m protocol \u001b[39m=\u001b[39m req\u001b[39m.\u001b[39mtype\n\u001b[0;32m--> 536\u001b[0m result \u001b[39m=\u001b[39m \u001b[39mself\u001b[39;49m\u001b[39m.\u001b[39;49m_call_chain(\u001b[39mself\u001b[39;49m\u001b[39m.\u001b[39;49mhandle_open, protocol, protocol \u001b[39m+\u001b[39;49m\n\u001b[1;32m    537\u001b[0m                           \u001b[39m'\u001b[39;49m\u001b[39m_open\u001b[39;49m\u001b[39m'\u001b[39;49m, req)\n\u001b[1;32m    538\u001b[0m \u001b[39mif\u001b[39;00m result:\n\u001b[1;32m    539\u001b[0m     \u001b[39mreturn\u001b[39;00m result\n",
      "File \u001b[0;32m~/miniconda3/envs/social_iq1/lib/python3.11/urllib/request.py:496\u001b[0m, in \u001b[0;36mOpenerDirector._call_chain\u001b[0;34m(self, chain, kind, meth_name, *args)\u001b[0m\n\u001b[1;32m    494\u001b[0m \u001b[39mfor\u001b[39;00m handler \u001b[39min\u001b[39;00m handlers:\n\u001b[1;32m    495\u001b[0m     func \u001b[39m=\u001b[39m \u001b[39mgetattr\u001b[39m(handler, meth_name)\n\u001b[0;32m--> 496\u001b[0m     result \u001b[39m=\u001b[39m func(\u001b[39m*\u001b[39;49margs)\n\u001b[1;32m    497\u001b[0m     \u001b[39mif\u001b[39;00m result \u001b[39mis\u001b[39;00m \u001b[39mnot\u001b[39;00m \u001b[39mNone\u001b[39;00m:\n\u001b[1;32m    498\u001b[0m         \u001b[39mreturn\u001b[39;00m result\n",
      "File \u001b[0;32m~/miniconda3/envs/social_iq1/lib/python3.11/site-packages/youtube_dl/utils.py:2887\u001b[0m, in \u001b[0;36mYoutubeDLHTTPSHandler.https_open\u001b[0;34m(self, req)\u001b[0m\n\u001b[1;32m   2884\u001b[0m     conn_class \u001b[39m=\u001b[39m make_socks_conn_class(conn_class, socks_proxy)\n\u001b[1;32m   2885\u001b[0m     \u001b[39mdel\u001b[39;00m req\u001b[39m.\u001b[39mheaders[\u001b[39m'\u001b[39m\u001b[39mYtdl-socks-proxy\u001b[39m\u001b[39m'\u001b[39m]\n\u001b[0;32m-> 2887\u001b[0m \u001b[39mreturn\u001b[39;00m \u001b[39mself\u001b[39;49m\u001b[39m.\u001b[39;49mdo_open(functools\u001b[39m.\u001b[39;49mpartial(\n\u001b[1;32m   2888\u001b[0m     _create_http_connection, \u001b[39mself\u001b[39;49m, conn_class, \u001b[39mTrue\u001b[39;49;00m),\n\u001b[1;32m   2889\u001b[0m     req, \u001b[39m*\u001b[39;49m\u001b[39m*\u001b[39;49mkwargs)\n",
      "File \u001b[0;32m~/miniconda3/envs/social_iq1/lib/python3.11/urllib/request.py:1352\u001b[0m, in \u001b[0;36mAbstractHTTPHandler.do_open\u001b[0;34m(self, http_class, req, **http_conn_args)\u001b[0m\n\u001b[1;32m   1350\u001b[0m     \u001b[39mexcept\u001b[39;00m \u001b[39mOSError\u001b[39;00m \u001b[39mas\u001b[39;00m err: \u001b[39m# timeout error\u001b[39;00m\n\u001b[1;32m   1351\u001b[0m         \u001b[39mraise\u001b[39;00m URLError(err)\n\u001b[0;32m-> 1352\u001b[0m     r \u001b[39m=\u001b[39m h\u001b[39m.\u001b[39;49mgetresponse()\n\u001b[1;32m   1353\u001b[0m \u001b[39mexcept\u001b[39;00m:\n\u001b[1;32m   1354\u001b[0m     h\u001b[39m.\u001b[39mclose()\n",
      "File \u001b[0;32m~/miniconda3/envs/social_iq1/lib/python3.11/http/client.py:1378\u001b[0m, in \u001b[0;36mHTTPConnection.getresponse\u001b[0;34m(self)\u001b[0m\n\u001b[1;32m   1376\u001b[0m \u001b[39mtry\u001b[39;00m:\n\u001b[1;32m   1377\u001b[0m     \u001b[39mtry\u001b[39;00m:\n\u001b[0;32m-> 1378\u001b[0m         response\u001b[39m.\u001b[39;49mbegin()\n\u001b[1;32m   1379\u001b[0m     \u001b[39mexcept\u001b[39;00m \u001b[39mConnectionError\u001b[39;00m:\n\u001b[1;32m   1380\u001b[0m         \u001b[39mself\u001b[39m\u001b[39m.\u001b[39mclose()\n",
      "File \u001b[0;32m~/miniconda3/envs/social_iq1/lib/python3.11/http/client.py:318\u001b[0m, in \u001b[0;36mHTTPResponse.begin\u001b[0;34m(self)\u001b[0m\n\u001b[1;32m    316\u001b[0m \u001b[39m# read until we get a non-100 response\u001b[39;00m\n\u001b[1;32m    317\u001b[0m \u001b[39mwhile\u001b[39;00m \u001b[39mTrue\u001b[39;00m:\n\u001b[0;32m--> 318\u001b[0m     version, status, reason \u001b[39m=\u001b[39m \u001b[39mself\u001b[39;49m\u001b[39m.\u001b[39;49m_read_status()\n\u001b[1;32m    319\u001b[0m     \u001b[39mif\u001b[39;00m status \u001b[39m!=\u001b[39m CONTINUE:\n\u001b[1;32m    320\u001b[0m         \u001b[39mbreak\u001b[39;00m\n",
      "File \u001b[0;32m~/miniconda3/envs/social_iq1/lib/python3.11/http/client.py:279\u001b[0m, in \u001b[0;36mHTTPResponse._read_status\u001b[0;34m(self)\u001b[0m\n\u001b[1;32m    278\u001b[0m \u001b[39mdef\u001b[39;00m \u001b[39m_read_status\u001b[39m(\u001b[39mself\u001b[39m):\n\u001b[0;32m--> 279\u001b[0m     line \u001b[39m=\u001b[39m \u001b[39mstr\u001b[39m(\u001b[39mself\u001b[39m\u001b[39m.\u001b[39mfp\u001b[39m.\u001b[39mreadline(_MAXLINE \u001b[39m+\u001b[39m \u001b[39m1\u001b[39m), \u001b[39m\"\u001b[39m\u001b[39miso-8859-1\u001b[39m\u001b[39m\"\u001b[39m)\n\u001b[1;32m    280\u001b[0m     \u001b[39mif\u001b[39;00m \u001b[39mlen\u001b[39m(line) \u001b[39m>\u001b[39m _MAXLINE:\n\u001b[1;32m    281\u001b[0m         \u001b[39mraise\u001b[39;00m LineTooLong(\u001b[39m\"\u001b[39m\u001b[39mstatus line\u001b[39m\u001b[39m\"\u001b[39m)\n",
      "File \u001b[0;32m~/miniconda3/envs/social_iq1/lib/python3.11/socket.py:706\u001b[0m, in \u001b[0;36mSocketIO.readinto\u001b[0;34m(self, b)\u001b[0m\n\u001b[1;32m    704\u001b[0m \u001b[39mwhile\u001b[39;00m \u001b[39mTrue\u001b[39;00m:\n\u001b[1;32m    705\u001b[0m     \u001b[39mtry\u001b[39;00m:\n\u001b[0;32m--> 706\u001b[0m         \u001b[39mreturn\u001b[39;00m \u001b[39mself\u001b[39;49m\u001b[39m.\u001b[39;49m_sock\u001b[39m.\u001b[39;49mrecv_into(b)\n\u001b[1;32m    707\u001b[0m     \u001b[39mexcept\u001b[39;00m timeout:\n\u001b[1;32m    708\u001b[0m         \u001b[39mself\u001b[39m\u001b[39m.\u001b[39m_timeout_occurred \u001b[39m=\u001b[39m \u001b[39mTrue\u001b[39;00m\n",
      "File \u001b[0;32m~/miniconda3/envs/social_iq1/lib/python3.11/ssl.py:1311\u001b[0m, in \u001b[0;36mSSLSocket.recv_into\u001b[0;34m(self, buffer, nbytes, flags)\u001b[0m\n\u001b[1;32m   1307\u001b[0m     \u001b[39mif\u001b[39;00m flags \u001b[39m!=\u001b[39m \u001b[39m0\u001b[39m:\n\u001b[1;32m   1308\u001b[0m         \u001b[39mraise\u001b[39;00m \u001b[39mValueError\u001b[39;00m(\n\u001b[1;32m   1309\u001b[0m           \u001b[39m\"\u001b[39m\u001b[39mnon-zero flags not allowed in calls to recv_into() on \u001b[39m\u001b[39m%s\u001b[39;00m\u001b[39m\"\u001b[39m \u001b[39m%\u001b[39m\n\u001b[1;32m   1310\u001b[0m           \u001b[39mself\u001b[39m\u001b[39m.\u001b[39m\u001b[39m__class__\u001b[39m)\n\u001b[0;32m-> 1311\u001b[0m     \u001b[39mreturn\u001b[39;00m \u001b[39mself\u001b[39;49m\u001b[39m.\u001b[39;49mread(nbytes, buffer)\n\u001b[1;32m   1312\u001b[0m \u001b[39melse\u001b[39;00m:\n\u001b[1;32m   1313\u001b[0m     \u001b[39mreturn\u001b[39;00m \u001b[39msuper\u001b[39m()\u001b[39m.\u001b[39mrecv_into(buffer, nbytes, flags)\n",
      "File \u001b[0;32m~/miniconda3/envs/social_iq1/lib/python3.11/ssl.py:1167\u001b[0m, in \u001b[0;36mSSLSocket.read\u001b[0;34m(self, len, buffer)\u001b[0m\n\u001b[1;32m   1165\u001b[0m \u001b[39mtry\u001b[39;00m:\n\u001b[1;32m   1166\u001b[0m     \u001b[39mif\u001b[39;00m buffer \u001b[39mis\u001b[39;00m \u001b[39mnot\u001b[39;00m \u001b[39mNone\u001b[39;00m:\n\u001b[0;32m-> 1167\u001b[0m         \u001b[39mreturn\u001b[39;00m \u001b[39mself\u001b[39;49m\u001b[39m.\u001b[39;49m_sslobj\u001b[39m.\u001b[39;49mread(\u001b[39mlen\u001b[39;49m, buffer)\n\u001b[1;32m   1168\u001b[0m     \u001b[39melse\u001b[39;00m:\n\u001b[1;32m   1169\u001b[0m         \u001b[39mreturn\u001b[39;00m \u001b[39mself\u001b[39m\u001b[39m.\u001b[39m_sslobj\u001b[39m.\u001b[39mread(\u001b[39mlen\u001b[39m)\n",
      "\u001b[0;31mKeyboardInterrupt\u001b[0m: "
     ]
    }
   ],
   "source": [
    "from youtube_dl import YoutubeDL\n",
    "\n",
    "ydl_opts = {'outtmpl': \"downloaded/%(id)s.%(ext)s\"}\n",
    "\n",
    "url_list = [f'https://www.youtube.com/watch?v={youtube_id}' for youtube_id in video_ids_siq1_train]\n",
    "with YoutubeDL(ydl_opts) as ydl:\n",
    "    ydl.download(url_list)"
   ]
  },
  {
   "cell_type": "code",
   "execution_count": null,
   "metadata": {},
   "outputs": [],
   "source": []
  }
 ],
 "metadata": {
  "kernelspec": {
   "display_name": "social_iq1",
   "language": "python",
   "name": "python3"
  },
  "language_info": {
   "codemirror_mode": {
    "name": "ipython",
    "version": 3
   },
   "file_extension": ".py",
   "mimetype": "text/x-python",
   "name": "python",
   "nbconvert_exporter": "python",
   "pygments_lexer": "ipython3",
   "version": "3.11.5"
  }
 },
 "nbformat": 4,
 "nbformat_minor": 2
}
