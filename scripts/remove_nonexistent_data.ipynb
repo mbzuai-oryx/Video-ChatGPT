{
 "cells": [
  {
   "cell_type": "code",
   "execution_count": 1,
   "metadata": {},
   "outputs": [],
   "source": [
    "from json import load as json_load, dump as json_dump\n",
    "# EXCLUDE_VIDS = {'JMzilFvwNXE', }\n",
    "\n",
    "VIDEO_FEATURES_DIR = '../data/siq2/video_features'\n",
    "qa_json_train_fpath = '../data/siq2/qa/qa_train_instruction.json'\n",
    "qa_json_train_removed_fpath = '../data/siq2/qa/qa_train_instruction_removed.json'\n",
    "qa_json_train_nonexistent_fpath = '../data/siq2/qa/qa_train_nonexistent.json'\n",
    "\n",
    "\n",
    "with open(qa_json_train_fpath, 'rb') as file_in:\n",
    "    qa_json_train = json_load(file_in)\n",
    "\n"
   ]
  },
  {
   "cell_type": "code",
   "execution_count": 2,
   "metadata": {},
   "outputs": [
    {
     "data": {
      "text/plain": [
       "'--b-8xt2PeE.pkl'"
      ]
     },
     "execution_count": 2,
     "metadata": {},
     "output_type": "execute_result"
    }
   ],
   "source": [
    "qa_json_train[0]['video']"
   ]
  },
  {
   "cell_type": "code",
   "execution_count": 4,
   "metadata": {},
   "outputs": [],
   "source": [
    "from os.path import join as os_path_join, exists as os_path_exists\n",
    "from tqdm import tqdm\n",
    "\n",
    "\n",
    "qa_json_train_removed = []\n",
    "nonexistent_features = []\n",
    "for qa_pair in tqdm(qa_json_train):\n",
    "    video_feature_fname = qa_pair['video']\n",
    "    video_feature_fpath = os_path_join(VIDEO_FEATURES_DIR, video_feature_fname)\n",
    "    if os_path_exists(video_feature_fpath):\n",
    "        qa_json_train_removed.append(qa_pair)\n",
    "    else:\n",
    "        nonexistent_features.append(qa_pair)\n",
    "\n",
    "with open(qa_json_train_removed_fpath, 'w') as file_out:\n",
    "    json_dump(qa_json_train_removed, file_out)\n",
    "\n",
    "with open(qa_json_train_nonexistent_fpath, 'w') as file_out:\n",
    "    json_dump(nonexistent_features, file_out)\n",
    "\n",
    "len_qa_json_train_removed = len(qa_json_train_removed)\n",
    "len_nonexistent_features = len(nonexistent_features)\n",
    "print(f'Train: Out of a total of {len_qa_json_train_removed+len_qa_json_train_removed} QA pairs, {len_nonexistent_features} are unavailable, leaving {len_qa_json_train_removed}.')\n"
   ]
  },
  {
   "cell_type": "code",
   "execution_count": 5,
   "metadata": {},
   "outputs": [
    {
     "name": "stdout",
     "output_type": "stream",
     "text": [
      "Train: Out of a total of 11188 QA pairs, 565 are unavailable, leaving 5594.\n"
     ]
    }
   ],
   "source": [
    "len_qa_json_train_removed = len(qa_json_train_removed)\n",
    "len_nonexistent_features = len(nonexistent_features)\n",
    "print(f'Train: Out of a total of {len_qa_json_train_removed+len_nonexistent_features} QA pairs, {len_nonexistent_features} are unavailable, leaving {len_qa_json_train_removed}.')\n"
   ]
  },
  {
   "cell_type": "code",
   "execution_count": null,
   "metadata": {},
   "outputs": [],
   "source": []
  }
 ],
 "metadata": {
  "kernelspec": {
   "display_name": "vtom",
   "language": "python",
   "name": "python3"
  },
  "language_info": {
   "codemirror_mode": {
    "name": "ipython",
    "version": 3
   },
   "file_extension": ".py",
   "mimetype": "text/x-python",
   "name": "python",
   "nbconvert_exporter": "python",
   "pygments_lexer": "ipython3",
   "version": "3.10.11"
  }
 },
 "nbformat": 4,
 "nbformat_minor": 2
}
